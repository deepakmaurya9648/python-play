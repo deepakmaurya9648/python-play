{
  "nbformat": 4,
  "nbformat_minor": 0,
  "metadata": {
    "colab": {
      "provenance": [],
      "toc_visible": true,
      "authorship_tag": "ABX9TyM6a9X1luz4xfC3ayq1nP+Z",
      "include_colab_link": true
    },
    "kernelspec": {
      "name": "python3",
      "display_name": "Python 3"
    },
    "language_info": {
      "name": "python"
    }
  },
  "cells": [
    {
      "cell_type": "markdown",
      "metadata": {
        "id": "view-in-github",
        "colab_type": "text"
      },
      "source": [
        "<a href=\"https://colab.research.google.com/github/deepakmaurya9648/python-play/blob/main/vector_operation.ipynb\" target=\"_parent\"><img src=\"https://colab.research.google.com/assets/colab-badge.svg\" alt=\"Open In Colab\"/></a>"
      ]
    },
    {
      "cell_type": "code",
      "execution_count": 1,
      "metadata": {
        "colab": {
          "base_uri": "https://localhost:8080/"
        },
        "collapsed": true,
        "id": "51vDam6B0_2n",
        "outputId": "83b45f06-2ca0-4a86-cca0-8366fda0d3df"
      },
      "outputs": [
        {
          "output_type": "stream",
          "name": "stdout",
          "text": [
            "[3 4 4]\n"
          ]
        }
      ],
      "source": [
        "import numpy as np\n",
        "\n",
        "v1 = np.array([1,-1,2])\n",
        "v2 = np.array([2,5,2])\n"
      ]
    },
    {
      "cell_type": "code",
      "source": [
        "#addition\n",
        "print(v1+v2)"
      ],
      "metadata": {
        "colab": {
          "base_uri": "https://localhost:8080/"
        },
        "id": "kfY350yt-GPF",
        "outputId": "23625e28-39e3-4961-f370-1970157c533a"
      },
      "execution_count": 2,
      "outputs": [
        {
          "output_type": "stream",
          "name": "stdout",
          "text": [
            "[3 4 4]\n"
          ]
        }
      ]
    },
    {
      "cell_type": "code",
      "source": [
        "#substraction\n",
        "print(v1-v2)"
      ],
      "metadata": {
        "colab": {
          "base_uri": "https://localhost:8080/"
        },
        "id": "tVfdzoih-Kpa",
        "outputId": "34c51821-ea47-4e5f-893f-3788a8891578"
      },
      "execution_count": 3,
      "outputs": [
        {
          "output_type": "stream",
          "name": "stdout",
          "text": [
            "[-1 -6  0]\n"
          ]
        }
      ]
    },
    {
      "cell_type": "code",
      "source": [
        "#scaler\n",
        "print(2*v1)"
      ],
      "metadata": {
        "colab": {
          "base_uri": "https://localhost:8080/"
        },
        "id": "-r8BumnG-QvQ",
        "outputId": "eefa8361-0f74-498a-8925-8b818dae811a"
      },
      "execution_count": 4,
      "outputs": [
        {
          "output_type": "stream",
          "name": "stdout",
          "text": [
            "[ 2 -2  4]\n"
          ]
        }
      ]
    },
    {
      "cell_type": "code",
      "source": [
        "# lenght\n",
        "print(np.linalg.norm(v1))"
      ],
      "metadata": {
        "colab": {
          "base_uri": "https://localhost:8080/"
        },
        "id": "qh-WZ8jr-m7l",
        "outputId": "f850efea-2dac-4f69-95b2-76f48f2108e9"
      },
      "execution_count": 5,
      "outputs": [
        {
          "output_type": "stream",
          "name": "stdout",
          "text": [
            "2.449489742783178\n"
          ]
        }
      ]
    },
    {
      "cell_type": "code",
      "source": [
        "#dot product\n",
        "dot = np.dot(v1,v2)\n",
        "print(dot)"
      ],
      "metadata": {
        "colab": {
          "base_uri": "https://localhost:8080/"
        },
        "id": "mvSBV9VU-wzH",
        "outputId": "d19ab172-ddf1-44f3-ae66-8490d8d4daf4"
      },
      "execution_count": 6,
      "outputs": [
        {
          "output_type": "stream",
          "name": "stdout",
          "text": [
            "1\n"
          ]
        }
      ]
    }
  ]
}